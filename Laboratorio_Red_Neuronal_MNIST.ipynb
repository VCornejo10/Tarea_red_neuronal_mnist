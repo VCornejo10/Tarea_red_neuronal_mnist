{
  "cells": [
    {
      "cell_type": "markdown",
      "metadata": {
        "id": "view-in-github",
        "colab_type": "text"
      },
      "source": [
        "<a href=\"https://colab.research.google.com/github/VCornejo10/Tarea_red_neuronal_mnist/blob/main/Laboratorio_Red_Neuronal_MNIST.ipynb\" target=\"_parent\"><img src=\"https://colab.research.google.com/assets/colab-badge.svg\" alt=\"Open In Colab\"/></a>"
      ]
    },
    {
      "cell_type": "markdown",
      "id": "0e566d1d",
      "metadata": {
        "id": "0e566d1d"
      },
      "source": [
        "\n",
        "# Laboratorio: Red Neuronal con MNIST  \n",
        "**Curso:** Machine Learning  \n",
        "**Total puntos:** 10\n",
        "\n",
        "**Objetivo:** Implementar una red neuronal simple para clasificar dígitos escritos a mano del conjunto de datos MNIST utilizando Python y Keras.\n"
      ]
    },
    {
      "cell_type": "markdown",
      "id": "d6ff2177",
      "metadata": {
        "id": "d6ff2177"
      },
      "source": [
        "\n",
        "## Paso 1: Cargar el conjunto de datos MNIST (1 punto)\n",
        "\n",
        "Ejecuta el siguiente bloque para descargar y explorar el conjunto de datos.\n"
      ]
    },
    {
      "cell_type": "code",
      "execution_count": 7,
      "id": "7c659575",
      "metadata": {
        "colab": {
          "base_uri": "https://localhost:8080/"
        },
        "id": "7c659575",
        "outputId": "b0d79306-6574-4f95-b63c-abf37eed7e82"
      },
      "outputs": [
        {
          "output_type": "stream",
          "name": "stdout",
          "text": [
            "Tamaño del set de entrenamiento: (60000, 28, 28)\n",
            "Tamaño del set de test: (10000, 28, 28)\n"
          ]
        }
      ],
      "source": [
        "from tensorflow.keras.datasets import mnist\n",
        "\n",
        "# Cargar datos\n",
        "(x_train, y_train), (x_test, y_test) = mnist.load_data()\n",
        "\n",
        "print(\"Tamaño del set de entrenamiento:\", x_train.shape)\n",
        "print(\"Tamaño del set de test:\", x_test.shape)\n"
      ]
    },
    {
      "cell_type": "markdown",
      "id": "8c2895d0",
      "metadata": {
        "id": "8c2895d0"
      },
      "source": [
        "\n",
        "## Paso 2: Visualizar ejemplos del dataset (1 punto)\n",
        "\n",
        "✏️ **Slot para completar:** Visualiza al menos 5 imágenes con sus etiquetas utilizando `matplotlib.pyplot.imshow()`.\n"
      ]
    },
    {
      "cell_type": "code",
      "execution_count": 8,
      "id": "1fab1a72",
      "metadata": {
        "colab": {
          "base_uri": "https://localhost:8080/",
          "height": 169
        },
        "id": "1fab1a72",
        "outputId": "3c3494fa-af67-48cd-fa5e-3e9a65bb534b"
      },
      "outputs": [
        {
          "output_type": "display_data",
          "data": {
            "text/plain": [
              "<Figure size 640x480 with 5 Axes>"
            ],
            "image/png": "[encoded data removed]"
          },
          "metadata": {}
        }
      ],
      "source": [
        "import matplotlib.pyplot as plt\n",
        "\n",
        "# Visualizar las primeras 5 imágenes del conjunto de entrenamiento\n",
        "for i in range(5):\n",
        "    plt.subplot(1, 5, i + 1)\n",
        "    plt.imshow(x_train[i], cmap='gray')\n",
        "    plt.title(f\"Etiqueta: {y_train[i]}\")\n",
        "    plt.axis('off')\n",
        "plt.tight_layout()\n",
        "plt.show()\n"
      ]
    },
    {
      "cell_type": "markdown",
      "id": "9e5bc3a8",
      "metadata": {
        "id": "9e5bc3a8"
      },
      "source": [
        "\n",
        "## Paso 3: Preprocesamiento (1 punto)\n",
        "\n",
        "✏️ **Slot para completar:**\n",
        "- Normaliza las imágenes (divide por 255.0).\n",
        "- Aplana cada imagen a un vector de 784 valores.\n",
        "- Codifica las etiquetas con `to_categorical`.\n"
      ]
    },
    {
      "cell_type": "code",
      "execution_count": 9,
      "id": "40757ea1",
      "metadata": {
        "id": "40757ea1"
      },
      "outputs": [],
      "source": [
        "from tensorflow.keras.utils import to_categorical\n",
        "\n",
        "# Normalización\n",
        "x_train = x_train / 255.0\n",
        "x_test = x_test / 255.0\n",
        "\n",
        "# Aplanamiento\n",
        "x_train = x_train.reshape(-1, 784)\n",
        "x_test = x_test.reshape(-1, 784)\n",
        "\n",
        "# Codificación one-hot\n",
        "y_train = to_categorical(y_train, 10)\n",
        "y_test = to_categorical(y_test, 10)\n"
      ]
    },
    {
      "cell_type": "markdown",
      "id": "36e5006d",
      "metadata": {
        "id": "36e5006d"
      },
      "source": [
        "\n",
        "## Paso 4: Definir la red neuronal (2 puntos)\n",
        "\n",
        "✏️ **Slot para completar:**\n",
        "- Crea un modelo `Sequential`.\n",
        "- Agrega una capa oculta con activación ReLU.\n",
        "- Agrega una capa de salida con activación Softmax.\n",
        "- Compila el modelo con `adam` y `categorical_crossentropy`.\n"
      ]
    },
    {
      "cell_type": "code",
      "execution_count": 10,
      "id": "9256bacd",
      "metadata": {
        "id": "9256bacd"
      },
      "outputs": [],
      "source": [
        "from tensorflow.keras.models import Sequential\n",
        "from tensorflow.keras.layers import Dense, Input\n",
        "\n",
        "# Definición del modelo con Input explícito\n",
        "model = Sequential()\n",
        "model.add(Input(shape=(784,)))  # Entrada del modelo\n",
        "model.add(Dense(128, activation='relu'))  # Capa oculta\n",
        "model.add(Dense(10, activation='softmax'))  # Capa de salida\n",
        "\n",
        "# Compilación del modelo\n",
        "model.compile(optimizer='adam', loss='categorical_crossentropy', metrics=['accuracy'])\n"
      ]
    },
    {
      "cell_type": "markdown",
      "id": "32fa8560",
      "metadata": {
        "id": "32fa8560"
      },
      "source": [
        "\n",
        "## Paso 5: Entrenar el modelo (1 punto)\n",
        "\n",
        "✏️ **Slot para completar:** Entrena el modelo con `fit` durante 5 épocas y batch size 32.\n"
      ]
    },
    {
      "cell_type": "code",
      "execution_count": 11,
      "id": "df8023c2",
      "metadata": {
        "colab": {
          "base_uri": "https://localhost:8080/"
        },
        "id": "df8023c2",
        "outputId": "1e893aa0-f746-4bbb-9a80-da748b6575a3"
      },
      "outputs": [
        {
          "output_type": "stream",
          "name": "stdout",
          "text": [
            "Epoch 1/5\n",
            "\u001b[1m1688/1688\u001b[0m \u001b[32m━━━━━━━━━━━━━━━━━━━━\u001b[0m\u001b[37m\u001b[0m \u001b[1m11s\u001b[0m 6ms/step - accuracy: 0.8738 - loss: 0.4507 - val_accuracy: 0.9667 - val_loss: 0.1180\n",
            "Epoch 2/5\n",
            "\u001b[1m1688/1688\u001b[0m \u001b[32m━━━━━━━━━━━━━━━━━━━━\u001b[0m\u001b[37m\u001b[0m \u001b[1m11s\u001b[0m 7ms/step - accuracy: 0.9631 - loss: 0.1269 - val_accuracy: 0.9687 - val_loss: 0.1099\n",
            "Epoch 3/5\n",
            "\u001b[1m1688/1688\u001b[0m \u001b[32m━━━━━━━━━━━━━━━━━━━━\u001b[0m\u001b[37m\u001b[0m \u001b[1m18s\u001b[0m 5ms/step - accuracy: 0.9752 - loss: 0.0839 - val_accuracy: 0.9760 - val_loss: 0.0845\n",
            "Epoch 4/5\n",
            "\u001b[1m1688/1688\u001b[0m \u001b[32m━━━━━━━━━━━━━━━━━━━━\u001b[0m\u001b[37m\u001b[0m \u001b[1m11s\u001b[0m 5ms/step - accuracy: 0.9820 - loss: 0.0616 - val_accuracy: 0.9775 - val_loss: 0.0774\n",
            "Epoch 5/5\n",
            "\u001b[1m1688/1688\u001b[0m \u001b[32m━━━━━━━━━━━━━━━━━━━━\u001b[0m\u001b[37m\u001b[0m \u001b[1m10s\u001b[0m 6ms/step - accuracy: 0.9870 - loss: 0.0443 - val_accuracy: 0.9777 - val_loss: 0.0739\n"
          ]
        }
      ],
      "source": [
        "history = model.fit(x_train, y_train, epochs=5, batch_size=32, validation_split=0.1)"
      ]
    },
    {
      "cell_type": "markdown",
      "id": "abd4ea81",
      "metadata": {
        "id": "abd4ea81"
      },
      "source": [
        "\n",
        "## Paso 6: Evaluar el modelo (1 punto)\n",
        "\n",
        "✏️ **Slot para completar:** Evalúa el modelo con `evaluate()` en el conjunto de prueba.\n"
      ]
    },
    {
      "cell_type": "code",
      "execution_count": 6,
      "id": "fed31d1c",
      "metadata": {
        "colab": {
          "base_uri": "https://localhost:8080/"
        },
        "id": "fed31d1c",
        "outputId": "381a9c82-8913-422b-d1d4-93998b63562e"
      },
      "outputs": [
        {
          "output_type": "stream",
          "name": "stdout",
          "text": [
            "\u001b[1m313/313\u001b[0m \u001b[32m━━━━━━━━━━━━━━━━━━━━\u001b[0m\u001b[37m\u001b[0m \u001b[1m1s\u001b[0m 3ms/step - accuracy: 0.9732 - loss: 0.0897\n",
            "Precisión en test: 0.9753\n"
          ]
        }
      ],
      "source": [
        "test_loss, test_accuracy = model.evaluate(x_test, y_test)\n",
        "print(f\"Precisión en test: {test_accuracy:.4f}\")\n"
      ]
    },
    {
      "cell_type": "markdown",
      "id": "7b5a1fd0",
      "metadata": {
        "id": "7b5a1fd0"
      },
      "source": [
        "## Preguntas de Reflexión (3 puntos en total)"
      ]
    },
    {
      "cell_type": "markdown",
      "id": "7455c9fb",
      "metadata": {
        "id": "7455c9fb"
      },
      "source": [
        "### 1. ¿Qué ventaja observas al usar codificación one-hot para las etiquetas? (0.5 punto)"
      ]
    },
    {
      "cell_type": "markdown",
      "source": [
        "Permite representar las clases de manera que cada salida tenga un vector exclusivo, lo que es esencial para funciones de activación como softmax y para calcular correctamente el error con categorical_crossentropy.\n"
      ],
      "metadata": {
        "id": "gnkJ0swyuQgz"
      },
      "id": "gnkJ0swyuQgz"
    },
    {
      "cell_type": "markdown",
      "id": "dbd9f5f9",
      "metadata": {
        "id": "dbd9f5f9"
      },
      "source": [
        "### 2. ¿Qué ocurre si aumentas o disminuyes el número de neuronas ocultas? (0.5 punto)"
      ]
    },
    {
      "cell_type": "markdown",
      "source": [
        "Aumentar neuronas puede mejorar la capacidad de aprendizaje, pero también aumentar el riesgo de sobreajuste. Disminuirlas reduce la capacidad del modelo y puede generar bajo rendimiento.\n"
      ],
      "metadata": {
        "id": "4qIG0uYTuVnq"
      },
      "id": "4qIG0uYTuVnq"
    },
    {
      "cell_type": "markdown",
      "id": "2a1bf432",
      "metadata": {
        "id": "2a1bf432"
      },
      "source": [
        "### 3. ¿Qué alternativa propondrías al optimizador `adam` y por qué? (0.5 punto)"
      ]
    },
    {
      "cell_type": "markdown",
      "source": [
        "Podría usarse RMSprop o SGD con momentum. RMSprop es útil para problemas con ruido o con datos no estacionarios, y SGD permite más control aunque requiere más ajuste manual.\n"
      ],
      "metadata": {
        "id": "Ylz7HSDVuZmj"
      },
      "id": "Ylz7HSDVuZmj"
    },
    {
      "cell_type": "markdown",
      "id": "c56b32ea",
      "metadata": {
        "id": "c56b32ea"
      },
      "source": [
        "### 4. ¿Cómo cambia el desempeño si entrenas más épocas? ¿Cuál es el riesgo? (0.5 punto)"
      ]
    },
    {
      "cell_type": "markdown",
      "source": [
        "Más épocas pueden mejorar el aprendizaje en etapas iniciales, pero si se entrena demasiado, el modelo puede sobreajustarse al set de entrenamiento y generalizar peor al set de prueba.\n"
      ],
      "metadata": {
        "id": "2h-hlcwdudt1"
      },
      "id": "2h-hlcwdudt1"
    },
    {
      "cell_type": "markdown",
      "id": "d79eea4a",
      "metadata": {
        "id": "d79eea4a"
      },
      "source": [
        "### 5. ¿Por qué es importante dividir en conjuntos de entrenamiento y prueba? (1 punto)"
      ]
    },
    {
      "cell_type": "markdown",
      "source": [
        "Para evaluar si el modelo generaliza bien a nuevos datos. Si solo usamos datos de entrenamiento, no podríamos saber si está sobreajustado o realmente aprendió patrones útiles.\n"
      ],
      "metadata": {
        "id": "0PiW4q6-ue-U"
      },
      "id": "0PiW4q6-ue-U"
    }
  ],
  "metadata": {
    "colab": {
      "provenance": [],
      "include_colab_link": true
    },
    "language_info": {
      "name": "python"
    },
    "kernelspec": {
      "name": "python3",
      "display_name": "Python 3"
    }
  },
  "nbformat": 4,
  "nbformat_minor": 5
}